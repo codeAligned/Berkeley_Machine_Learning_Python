{
 "cells": [
  {
   "cell_type": "markdown",
   "metadata": {},
   "source": [
    "Homework # 1 CompSci X 433.6"
   ]
  },
  {
   "cell_type": "code",
   "execution_count": 915,
   "metadata": {
    "collapsed": true
   },
   "outputs": [],
   "source": [
    "from os.path import join, dirname, abspath\n",
    "import xlrd\n",
    "import math\n",
    "import numpy as np\n",
    "import matplotlib.pyplot as plt"
   ]
  },
  {
   "cell_type": "code",
   "execution_count": 916,
   "metadata": {
    "collapsed": true
   },
   "outputs": [],
   "source": [
    "Hbins=6"
   ]
  },
  {
   "cell_type": "code",
   "execution_count": 917,
   "metadata": {
    "collapsed": false
   },
   "outputs": [
    {
     "data": {
      "text/html": [
       "<div>\n",
       "<table border=\"1\" class=\"dataframe\">\n",
       "  <thead>\n",
       "    <tr style=\"text-align: right;\">\n",
       "      <th></th>\n",
       "      <th>Sex</th>\n",
       "      <th>Height</th>\n",
       "      <th>HandSpan</th>\n",
       "    </tr>\n",
       "  </thead>\n",
       "  <tbody>\n",
       "    <tr>\n",
       "      <th>0</th>\n",
       "      <td>Female</td>\n",
       "      <td>68.0</td>\n",
       "      <td>21.5</td>\n",
       "    </tr>\n",
       "    <tr>\n",
       "      <th>1</th>\n",
       "      <td>Male</td>\n",
       "      <td>71.0</td>\n",
       "      <td>23.5</td>\n",
       "    </tr>\n",
       "    <tr>\n",
       "      <th>2</th>\n",
       "      <td>Male</td>\n",
       "      <td>73.0</td>\n",
       "      <td>22.5</td>\n",
       "    </tr>\n",
       "    <tr>\n",
       "      <th>3</th>\n",
       "      <td>Female</td>\n",
       "      <td>64.0</td>\n",
       "      <td>18.0</td>\n",
       "    </tr>\n",
       "    <tr>\n",
       "      <th>4</th>\n",
       "      <td>Male</td>\n",
       "      <td>68.0</td>\n",
       "      <td>23.5</td>\n",
       "    </tr>\n",
       "  </tbody>\n",
       "</table>\n",
       "</div>"
      ],
      "text/plain": [
       "      Sex  Height  HandSpan\n",
       "0  Female    68.0      21.5\n",
       "1    Male    71.0      23.5\n",
       "2    Male    73.0      22.5\n",
       "3  Female    64.0      18.0\n",
       "4    Male    68.0      23.5"
      ]
     },
     "execution_count": 917,
     "metadata": {},
     "output_type": "execute_result"
    }
   ],
   "source": [
    "import pandas as pd\n",
    "xl = pd.ExcelFile(\"Assignment_2_Data_and_Template.xlsx\")\n",
    "df = xl.parse(xl.sheet_names[0])\n",
    "df.head()\n"
   ]
  },
  {
   "cell_type": "code",
   "execution_count": 918,
   "metadata": {
    "collapsed": false
   },
   "outputs": [
    {
     "name": "stdout",
     "output_type": "stream",
     "text": [
      "[['Female' 68.0 21.5]\n",
      " ['Male' 71.0 23.5]\n",
      " ['Male' 73.0 22.5]\n",
      " ['Female' 64.0 18.0]\n",
      " ['Male' 68.0 23.5]]\n"
     ]
    }
   ],
   "source": [
    "A1 = df.reset_index().values\n",
    "A1T=np.transpose(A1)\n",
    "A = np.transpose(A1T[1:4])\n",
    "print(A[:5])"
   ]
  },
  {
   "cell_type": "code",
   "execution_count": 919,
   "metadata": {
    "collapsed": false
   },
   "outputs": [
    {
     "name": "stdout",
     "output_type": "stream",
     "text": [
      "(167, 3)\n"
     ]
    }
   ],
   "source": [
    "print(A.shape)"
   ]
  },
  {
   "cell_type": "code",
   "execution_count": 920,
   "metadata": {
    "collapsed": false
   },
   "outputs": [
    {
     "name": "stdout",
     "output_type": "stream",
     "text": [
      "10\n"
     ]
    }
   ],
   "source": [
    "numbin=math.ceil(math.sqrt(A.shape[0]/2 + 1))\n",
    "print(numbin)\n"
   ]
  },
  {
   "cell_type": "code",
   "execution_count": 921,
   "metadata": {
    "collapsed": false
   },
   "outputs": [
    {
     "name": "stdout",
     "output_type": "stream",
     "text": [
      "['Male' 71.0 23.5]\n"
     ]
    }
   ],
   "source": [
    "print(A[1])"
   ]
  },
  {
   "cell_type": "code",
   "execution_count": 922,
   "metadata": {
    "collapsed": false
   },
   "outputs": [
    {
     "name": "stdout",
     "output_type": "stream",
     "text": [
      "(167,)\n"
     ]
    }
   ],
   "source": [
    "AT = np.transpose(A)\n",
    "S = AT[0]\n",
    "print(S.shape)"
   ]
  },
  {
   "cell_type": "code",
   "execution_count": 923,
   "metadata": {
    "collapsed": false
   },
   "outputs": [],
   "source": [
    "def GetNums(S):\n",
    "    Fnum=0\n",
    "    Mnum=0\n",
    "    for i in range(0,S.shape[0]):\n",
    "        if S[i]=='Female':\n",
    "            Fnum+=1;\n",
    "        if S[i]=='Male':\n",
    "            Mnum+=1;\n",
    "    return Fnum, Mnum"
   ]
  },
  {
   "cell_type": "code",
   "execution_count": 924,
   "metadata": {
    "collapsed": true
   },
   "outputs": [],
   "source": [
    "def GetSplitData(S,D,fnum,mnum):\n",
    "    Fdata=np.zeros((2,fnum))\n",
    "    Mdata=np.zeros((2,mnum))\n",
    "    Fidx=0\n",
    "    Midx=0\n",
    "    for i in range(0,S.shape[0]):\n",
    "        if S[i]=='Female':\n",
    "            Fdata[0][Fidx]=D[1][i];\n",
    "            Fdata[1][Fidx]=D[2][i];\n",
    "            Fidx+=1;\n",
    "        if S[i]=='Male':\n",
    "            Mdata[0][Midx]=D[1][i];\n",
    "            Mdata[1][Midx]=D[2][i];\n",
    "            Midx+=1;\n",
    "    return Fdata, Mdata"
   ]
  },
  {
   "cell_type": "code",
   "execution_count": 925,
   "metadata": {
    "collapsed": false
   },
   "outputs": [
    {
     "name": "stdout",
     "output_type": "stream",
     "text": [
      "Num Females = 89, Num Males = 78\n",
      "Height: Min = 57.0, Max = 78.0\n",
      "HandSpan: Min = 16.0, Max = 25.5\n",
      "Female: Height: Min = 57.0, Max = 72.0 : HandSpan: Min = 16.0, Max = 23.0\n",
      "Female: Height: Mean = 65.25280898876404, Std = 2.7852835618511596 : HandSpan: Mean = 19.60112359550562, Std = 1.3254068313697012\n",
      "Male: Height: Min = 66.0, Max = 78.0 : HandSpan: Min = 18.0, Max = 25.5\n",
      "Male: Height: Mean = 71.28846153846153, Std = 2.6622898438726037 : HandSpan: Mean = 22.30128205128205, Std = 1.4354956236950658\n"
     ]
    }
   ],
   "source": [
    "AT = np.transpose(A)\n",
    "S = AT[0]\n",
    "HT = AT[1]\n",
    "HS = AT[2]\n",
    "Fnum, Mnum = GetNums(S)\n",
    "HTmin=np.min(HT)\n",
    "HTmax=np.max(HT)\n",
    "HSmin=np.min(HS)\n",
    "HSmax= np.max(HS)\n",
    "\n",
    "FD, MD = GetSplitData(S,AT,Fnum,Mnum)\n",
    "\n",
    "FHT=FD[0]\n",
    "FHS=FD[1]\n",
    "HTFmin=np.min(FHT)\n",
    "HTFmax=np.max(FHT)\n",
    "HSFmin=np.min(FHS)\n",
    "HSFmax= np.max(FHS)\n",
    "\n",
    "HTFmean=np.mean(FHT)\n",
    "HSFmean=np.mean(FHS)\n",
    "HTFstd=np.std(FHT,ddof=1)\n",
    "HSFstd=np.std(FHS,ddof=1)\n",
    "\n",
    "MHT=MD[0]\n",
    "MHS=MD[1]\n",
    "HTMmin=np.min(MHT)\n",
    "HTMmax=np.max(MHT)\n",
    "HSMmin=np.min(MHS)\n",
    "HSMmax= np.max(MHS)\n",
    "\n",
    "HTMmean=np.mean(MHT)\n",
    "HSMmean=np.mean(MHS)\n",
    "HTMstd=np.std(MHT,ddof=1)\n",
    "HSMstd=np.std(MHS,ddof=1)\n",
    "\n",
    "print(\"Num Females = {}, Num Males = {}\".format(Fnum,Mnum))\n",
    "print(\"Height: Min = {}, Max = {}\".format(HTmin,HTmax))\n",
    "print(\"HandSpan: Min = {}, Max = {}\".format(HSmin,HSmax))\n",
    "\n",
    "print(\"Female: Height: Min = {}, Max = {} : HandSpan: Min = {}, Max = {}\".format(HTFmin,HTFmax,HSFmin,HSFmax))\n",
    "print(\"Female: Height: Mean = {}, Std = {} : HandSpan: Mean = {}, Std = {}\".format(HTFmean,HTFstd,HSFmean,HSFstd))\n",
    "print(\"Male: Height: Min = {}, Max = {} : HandSpan: Min = {}, Max = {}\".format(HTMmin,HTMmax,HSMmin,HSMmax))\n",
    "print(\"Male: Height: Mean = {}, Std = {} : HandSpan: Mean = {}, Std = {}\".format(HTMmean,HTMstd,HSMmean,HSMstd))\n"
   ]
  },
  {
   "cell_type": "code",
   "execution_count": 926,
   "metadata": {
    "collapsed": false
   },
   "outputs": [
    {
     "name": "stdout",
     "output_type": "stream",
     "text": [
      "HTbins = 22, HSbins = 20\n"
     ]
    }
   ],
   "source": [
    "HTbins = math.ceil(HTmax - HTmin + 1)\n",
    "HSbins = math.ceil(2*HSmax - 2*HSmin + 1)\n",
    "print(\"HTbins = {}, HSbins = {}\".format(HTbins,HSbins))"
   ]
  },
  {
   "cell_type": "code",
   "execution_count": 927,
   "metadata": {
    "collapsed": true
   },
   "outputs": [],
   "source": [
    "def Build1HistogramClassifier(HT,HS,S,Hbins):\n",
    "    HTmin=np.min(HT)-1\n",
    "    HTmax=np.max(HT)\n",
    "    if (HTmax == math.ceil(HTmax)):\n",
    "        HTmax = HTmax+1\n",
    "    else:\n",
    "        HTmax = math.ceil(HTmax)\n",
    "    HSmin=np.min(HS)-0.5\n",
    "    HSmax=np.max(HS)\n",
    "    if (HSmax == math.ceil(HSmax)):\n",
    "        HSmax = HSmax+0.5\n",
    "    else:\n",
    "        HSmax = math.ceil(HSmax)\n",
    "\n",
    "    HF=np.zeros((Hbins,Hbins))\n",
    "    HM=np.zeros((Hbins,Hbins))\n",
    "    \n",
    "    Hmins=np.array([HTmin,HSmin])\n",
    "    Hwidths=np.array([(HTmax-HTmin)/Hbins,(HSmax-HSmin)/Hbins])\n",
    "    \n",
    "    for i in range(0,S.size):\n",
    "        bx=(np.round(((Hbins-1)*(HT[i]-HTmin)/(HTmax-HTmin)))).astype('int32')\n",
    "        by=(np.round(((Hbins-1)*(HS[i]-HSmin)/(HSmax-HSmin)))).astype('int32')\n",
    "        if S[i]=='Female':\n",
    "            HF[bx][by]+=1;\n",
    "        else:\n",
    "            HM[bx][by]+=1;\n",
    "    return HF,HM,Hmins,Hwidths"
   ]
  },
  {
   "cell_type": "code",
   "execution_count": 928,
   "metadata": {
    "collapsed": false
   },
   "outputs": [],
   "source": [
    "\n",
    "HF,HM,Hmin,Hwd = Build1HistogramClassifier(HT,HS,S,Hbins)"
   ]
  },
  {
   "cell_type": "code",
   "execution_count": 929,
   "metadata": {
    "collapsed": false
   },
   "outputs": [
    {
     "name": "stdout",
     "output_type": "stream",
     "text": [
      "[ 56.   15.5] [ 3.83333333  1.75      ]\n"
     ]
    }
   ],
   "source": [
    "print(Hmin,Hwd)\n"
   ]
  },
  {
   "cell_type": "code",
   "execution_count": 930,
   "metadata": {
    "collapsed": false
   },
   "outputs": [
    {
     "name": "stdout",
     "output_type": "stream",
     "text": [
      "[[  1.   0.   0.   0.   0.   0.]\n",
      " [  0.   8.   4.   0.   0.   0.]\n",
      " [  1.  11.  36.   9.   0.   0.]\n",
      " [  0.   2.  10.   6.   1.   0.]\n",
      " [  0.   0.   0.   0.   0.   0.]\n",
      " [  0.   0.   0.   0.   0.   0.]]\n"
     ]
    }
   ],
   "source": [
    "print(HF)"
   ]
  },
  {
   "cell_type": "code",
   "execution_count": 931,
   "metadata": {
    "collapsed": false
   },
   "outputs": [
    {
     "name": "stdout",
     "output_type": "stream",
     "text": [
      "[[  0.   0.   0.   0.   0.   0.]\n",
      " [  0.   0.   0.   0.   0.   0.]\n",
      " [  0.   0.   1.   7.   1.   0.]\n",
      " [  0.   1.   7.  24.   9.   0.]\n",
      " [  0.   0.   1.   8.  18.   0.]\n",
      " [  0.   0.   0.   0.   0.   1.]]\n"
     ]
    }
   ],
   "source": [
    "print(HM)"
   ]
  },
  {
   "cell_type": "code",
   "execution_count": 932,
   "metadata": {
    "collapsed": false
   },
   "outputs": [
    {
     "name": "stdout",
     "output_type": "stream",
     "text": [
      "15.5 24.25 1.75\n",
      "56.0 75.1666666667 3.83333333333\n"
     ]
    }
   ],
   "source": [
    "print(Hmin[1],(Hmin[1]+Hwd[1]*(Hbins-1)), Hwd[1])\n",
    "print(Hmin[0],(Hmin[0]+Hwd[0]*(Hbins-1)), Hwd[0])"
   ]
  },
  {
   "cell_type": "code",
   "execution_count": 933,
   "metadata": {
    "collapsed": false
   },
   "outputs": [
    {
     "name": "stdout",
     "output_type": "stream",
     "text": [
      "[ 16.375  18.125  19.875  21.625  23.375  25.125]\n",
      "[ 57.91666667  61.75        65.58333333  69.41666667  73.25        77.08333333]\n"
     ]
    }
   ],
   "source": [
    "histcol=np.arange((Hmin[1]+(0.5*Hwd[1])),(Hmin[1]+(Hwd[1]*((Hbins)+0.4))), Hwd[1])\n",
    "histidx=np.arange((Hmin[0]+(0.5*Hwd[0])),(Hmin[0]+(Hwd[0]*((Hbins)+0.4))), Hwd[0])\n",
    "print(histcol)\n",
    "print(histidx)"
   ]
  },
  {
   "cell_type": "code",
   "execution_count": 934,
   "metadata": {
    "collapsed": false
   },
   "outputs": [],
   "source": [
    "dfhf = pd.DataFrame(HF,index=histidx,columns=histcol)\n",
    "dfhm = pd.DataFrame(HM,index=histidx,columns=histcol)"
   ]
  },
  {
   "cell_type": "code",
   "execution_count": 935,
   "metadata": {
    "collapsed": false
   },
   "outputs": [],
   "source": [
    "writer = pd.ExcelWriter('output.xlsx')\n",
    "dfhf.to_excel(writer,'FemaleHist')\n",
    "dfhm.to_excel(writer,'MaleHist')\n",
    "writer.save()"
   ]
  },
  {
   "cell_type": "code",
   "execution_count": 936,
   "metadata": {
    "collapsed": false
   },
   "outputs": [
    {
     "name": "stdout",
     "output_type": "stream",
     "text": [
      "Covariance Matrix : Female\n",
      "[[ 7.75780452  1.65170135]\n",
      " [ 1.65170135  1.75670327]]\n"
     ]
    }
   ],
   "source": [
    "Fcov=np.cov(FD)\n",
    "print(\"Covariance Matrix : Female\")\n",
    "print(Fcov)"
   ]
  },
  {
   "cell_type": "code",
   "execution_count": 937,
   "metadata": {
    "collapsed": false
   },
   "outputs": [
    {
     "name": "stdout",
     "output_type": "stream",
     "text": [
      "Covariance Matrix : Male\n",
      "[[ 7.08778721  1.80157343]\n",
      " [ 1.80157343  2.06064769]]\n"
     ]
    }
   ],
   "source": [
    "Mcov=np.cov(MD)\n",
    "print(\"Covariance Matrix : Male\")\n",
    "print(Mcov)"
   ]
  },
  {
   "cell_type": "code",
   "execution_count": 938,
   "metadata": {
    "collapsed": false
   },
   "outputs": [
    {
     "name": "stdout",
     "output_type": "stream",
     "text": [
      "Determinant: Female = 10.900043196726429 , male = 11.359765505057714\n"
     ]
    }
   ],
   "source": [
    "Fdet=np.linalg.det(Fcov)\n",
    "Mdet=np.linalg.det(Mcov)\n",
    "print(\"Determinant: Female = {} , male = {}\".format(Fdet,Mdet))"
   ]
  },
  {
   "cell_type": "code",
   "execution_count": 939,
   "metadata": {
    "collapsed": true
   },
   "outputs": [],
   "source": [
    "def BayesianProb(val, num, dimn, mean, cov):\n",
    "    covinv = np.linalg.inv(cov)\n",
    "    diff = val-mean\n",
    "    p1 = np.dot(diff,covinv)\n",
    "    diffT = np.transpose(diff)\n",
    "    p2 = np.dot(p1,diffT)\n",
    "    numerator = math.exp(-1*(p2/2))\n",
    "    \n",
    "    det=np.linalg.det(cov)\n",
    "    detsqrt = math.sqrt(det)\n",
    "    denominator = 2*math.pi*detsqrt\n",
    "    \n",
    "    v = numerator/denominator\n",
    "    v = v*num\n",
    "    return v\n"
   ]
  },
  {
   "cell_type": "code",
   "execution_count": 940,
   "metadata": {
    "collapsed": true
   },
   "outputs": [],
   "source": [
    "def HistProb(histf, histm, val, offset, width, bins): \n",
    "    nbin = val - offset\n",
    "    bx=(np.round((bins-1)*(nbin[0])/(bins*width[0]))).astype('int32')\n",
    "    by=(np.round((bins-1)*(nbin[1])/(bins*width[1]))).astype('int32')\n",
    "    pb = (histf[bx,by]/(histf[bx,by] + histm[bx,by])) #height return \n",
    "    return pb\n"
   ]
  },
  {
   "cell_type": "code",
   "execution_count": 941,
   "metadata": {
    "collapsed": false
   },
   "outputs": [],
   "source": [
    "Fmean = np.array([[HTFmean,HSFmean]])\n",
    "Mmean = np.array([[HTMmean,HSMmean]])"
   ]
  },
  {
   "cell_type": "code",
   "execution_count": 942,
   "metadata": {
    "collapsed": false
   },
   "outputs": [
    {
     "name": "stdout",
     "output_type": "stream",
     "text": [
      "For test data [[ 69.   17.5]], Probability of Female: Histogram = 0.6666666666666666, Bayesian = 0.8985362558122361\n",
      "For test data [[ 66.  22.]], Probability of Female: Histogram = 0.5625, Bayesian = 0.6555792232463564\n",
      "For test data [[ 70.   21.5]], Probability of Female: Histogram = 0.2, Bayesian = 0.19885721783198404\n",
      "For test data [[ 69.   23.5]], Probability of Female: Histogram = 0.1, Bayesian = 0.056451796527341565\n"
     ]
    }
   ],
   "source": [
    "test = np.array([[69,17.5],[66,22],[70,21.5],[69,23.5]])\n",
    "for i in range(0,4):\n",
    "    TestA=np.array([[test[i][0],test[i][1]]])\n",
    "    Hpb = HistProb(HF,HM,test[i],Hmin,Hwd,Hbins)\n",
    "    Fpb = BayesianProb(TestA, Fnum, 2, Fmean, Fcov)\n",
    "    Mpb = BayesianProb(TestA, Mnum, 2, Mmean, Mcov)\n",
    "    FBcondP = Fpb / (Fpb + Mpb)\n",
    "    print(\"For test data {}, Probability of Female: Histogram = {}, Bayesian = {}\".format(TestA,Hpb,FBcondP))"
   ]
  }
 ],
 "metadata": {
  "kernelspec": {
   "display_name": "Python 3",
   "language": "python",
   "name": "python3"
  },
  "language_info": {
   "codemirror_mode": {
    "name": "ipython",
    "version": 3
   },
   "file_extension": ".py",
   "mimetype": "text/x-python",
   "name": "python",
   "nbconvert_exporter": "python",
   "pygments_lexer": "ipython3",
   "version": "3.6.0"
  }
 },
 "nbformat": 4,
 "nbformat_minor": 2
}
