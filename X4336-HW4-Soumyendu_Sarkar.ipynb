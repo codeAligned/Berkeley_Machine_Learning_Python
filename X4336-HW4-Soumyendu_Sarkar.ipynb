{
 "cells": [
  {
   "cell_type": "markdown",
   "metadata": {},
   "source": [
    "Homework # 4 CompSci X 433.6"
   ]
  },
  {
   "cell_type": "code",
   "execution_count": 406,
   "metadata": {
    "collapsed": false
   },
   "outputs": [],
   "source": [
    "from os.path import join, dirname, abspath\n",
    "import xlrd\n",
    "import math\n",
    "import numpy as np\n",
    "import matplotlib.pyplot as plt\n",
    "from sklearn.preprocessing import MultiLabelBinarizer\n",
    "from sklearn.metrics import confusion_matrix\n",
    "import pandas as pd\n",
    "import openpyxl as pxl"
   ]
  },
  {
   "cell_type": "markdown",
   "metadata": {},
   "source": [
    "# Excel Write Function"
   ]
  },
  {
   "cell_type": "code",
   "execution_count": 407,
   "metadata": {
    "collapsed": true
   },
   "outputs": [],
   "source": [
    "def writeExcelData(x, excelfile, sheetname, startrow, startcol):\n",
    "    from pandas import DataFrame, ExcelWriter\n",
    "    from openpyxl import load_workbook\n",
    "    df=DataFrame(x)\n",
    "    book = load_workbook(excelfile)\n",
    "    writer = ExcelWriter(excelfile, engine='openpyxl')\n",
    "    writer.book = book\n",
    "    writer.sheets = dict((ws.title, ws) for ws in book.worksheets)\n",
    "    df.to_excel(writer, sheet_name=sheetname, startrow=startrow-1, startcol=startcol-1, header=False, index=False)\n",
    "    writer.save()\n",
    "    writer.close()"
   ]
  },
  {
   "cell_type": "code",
   "execution_count": 408,
   "metadata": {
    "collapsed": true
   },
   "outputs": [],
   "source": [
    "excelfile=r\"Assignment_4_Data_and_Template.xlsx\""
   ]
  },
  {
   "cell_type": "markdown",
   "metadata": {
    "collapsed": true
   },
   "source": [
    "# Utility Functions"
   ]
  },
  {
   "cell_type": "code",
   "execution_count": 409,
   "metadata": {
    "collapsed": true
   },
   "outputs": [],
   "source": [
    "def kesler(a):\n",
    "    tempa=MultiLabelBinarizer().fit_transform(a)\n",
    "    for i in range(tempa.shape[0]):\n",
    "        for j in range(tempa.shape[1]):\n",
    "            if (tempa[i][j]==0):\n",
    "                tempa[i][j]=-1\n",
    "    return tempa"
   ]
  },
  {
   "cell_type": "code",
   "execution_count": 410,
   "metadata": {
    "collapsed": false
   },
   "outputs": [],
   "source": [
    "def OneHot1D(a):\n",
    "    tempa=np.zeros((a.shape[0]), dtype=np.int)\n",
    "    print(tempa.shape)\n",
    "    for i in range(a.shape[0]):\n",
    "        if (a[i]< 0):\n",
    "            tempa[i]=-1\n",
    "        else:\n",
    "            tempa[i]=1\n",
    "    return tempa"
   ]
  },
  {
   "cell_type": "code",
   "execution_count": 411,
   "metadata": {
    "collapsed": true
   },
   "outputs": [],
   "source": [
    "def OneHot2D(a):\n",
    "    t=np.full((a.shape[0],a.shape[1]), -1, dtype=int)\n",
    "    maxindex=np.argmax(a, axis=1)\n",
    "    for i in range(a.shape[0]):\n",
    "        t[i][maxindex[i]]=1\n",
    "    return t"
   ]
  },
  {
   "cell_type": "markdown",
   "metadata": {},
   "source": [
    "# Training Data"
   ]
  },
  {
   "cell_type": "code",
   "execution_count": 412,
   "metadata": {
    "collapsed": false
   },
   "outputs": [
    {
     "data": {
      "text/html": [
       "<div>\n",
       "<table border=\"1\" class=\"dataframe\">\n",
       "  <thead>\n",
       "    <tr style=\"text-align: right;\">\n",
       "      <th></th>\n",
       "      <th>Temperature</th>\n",
       "      <th>x-acc</th>\n",
       "      <th>y-acc</th>\n",
       "      <th>z-acc</th>\n",
       "      <th>Pressure</th>\n",
       "      <th>Load</th>\n",
       "      <th>Flow</th>\n",
       "      <th>Unnamed: 7</th>\n",
       "      <th>Unnamed: 8</th>\n",
       "      <th>Nitrogen</th>\n",
       "      <th>Unnamed: 10</th>\n",
       "      <th>Unnamed: 11</th>\n",
       "      <th>Frequency</th>\n",
       "      <th>Unnamed: 13</th>\n",
       "      <th>Unnamed: 14</th>\n",
       "      <th>Failure</th>\n",
       "      <th>Type</th>\n",
       "    </tr>\n",
       "  </thead>\n",
       "  <tbody>\n",
       "    <tr>\n",
       "      <th>0</th>\n",
       "      <td>149</td>\n",
       "      <td>118</td>\n",
       "      <td>136</td>\n",
       "      <td>113</td>\n",
       "      <td>113</td>\n",
       "      <td>105</td>\n",
       "      <td>0</td>\n",
       "      <td>0</td>\n",
       "      <td>1</td>\n",
       "      <td>0</td>\n",
       "      <td>0</td>\n",
       "      <td>1</td>\n",
       "      <td>0</td>\n",
       "      <td>0</td>\n",
       "      <td>1</td>\n",
       "      <td>-1</td>\n",
       "      <td>4</td>\n",
       "    </tr>\n",
       "    <tr>\n",
       "      <th>1</th>\n",
       "      <td>171</td>\n",
       "      <td>218</td>\n",
       "      <td>83</td>\n",
       "      <td>265</td>\n",
       "      <td>222</td>\n",
       "      <td>129</td>\n",
       "      <td>0</td>\n",
       "      <td>1</td>\n",
       "      <td>0</td>\n",
       "      <td>0</td>\n",
       "      <td>1</td>\n",
       "      <td>0</td>\n",
       "      <td>0</td>\n",
       "      <td>1</td>\n",
       "      <td>0</td>\n",
       "      <td>1</td>\n",
       "      <td>0</td>\n",
       "    </tr>\n",
       "    <tr>\n",
       "      <th>2</th>\n",
       "      <td>295</td>\n",
       "      <td>267</td>\n",
       "      <td>177</td>\n",
       "      <td>160</td>\n",
       "      <td>317</td>\n",
       "      <td>216</td>\n",
       "      <td>0</td>\n",
       "      <td>1</td>\n",
       "      <td>0</td>\n",
       "      <td>1</td>\n",
       "      <td>0</td>\n",
       "      <td>0</td>\n",
       "      <td>0</td>\n",
       "      <td>1</td>\n",
       "      <td>0</td>\n",
       "      <td>1</td>\n",
       "      <td>2</td>\n",
       "    </tr>\n",
       "    <tr>\n",
       "      <th>3</th>\n",
       "      <td>102</td>\n",
       "      <td>155</td>\n",
       "      <td>147</td>\n",
       "      <td>266</td>\n",
       "      <td>197</td>\n",
       "      <td>119</td>\n",
       "      <td>0</td>\n",
       "      <td>1</td>\n",
       "      <td>0</td>\n",
       "      <td>0</td>\n",
       "      <td>1</td>\n",
       "      <td>0</td>\n",
       "      <td>1</td>\n",
       "      <td>0</td>\n",
       "      <td>0</td>\n",
       "      <td>-1</td>\n",
       "      <td>3</td>\n",
       "    </tr>\n",
       "    <tr>\n",
       "      <th>4</th>\n",
       "      <td>129</td>\n",
       "      <td>143</td>\n",
       "      <td>169</td>\n",
       "      <td>134</td>\n",
       "      <td>131</td>\n",
       "      <td>101</td>\n",
       "      <td>0</td>\n",
       "      <td>0</td>\n",
       "      <td>1</td>\n",
       "      <td>0</td>\n",
       "      <td>0</td>\n",
       "      <td>1</td>\n",
       "      <td>0</td>\n",
       "      <td>0</td>\n",
       "      <td>1</td>\n",
       "      <td>-1</td>\n",
       "      <td>4</td>\n",
       "    </tr>\n",
       "  </tbody>\n",
       "</table>\n",
       "</div>"
      ],
      "text/plain": [
       "   Temperature  x-acc  y-acc  z-acc  Pressure  Load  Flow  Unnamed: 7  \\\n",
       "0          149    118    136    113       113   105     0           0   \n",
       "1          171    218     83    265       222   129     0           1   \n",
       "2          295    267    177    160       317   216     0           1   \n",
       "3          102    155    147    266       197   119     0           1   \n",
       "4          129    143    169    134       131   101     0           0   \n",
       "\n",
       "   Unnamed: 8  Nitrogen  Unnamed: 10  Unnamed: 11  Frequency  Unnamed: 13  \\\n",
       "0           1         0            0            1          0            0   \n",
       "1           0         0            1            0          0            1   \n",
       "2           0         1            0            0          0            1   \n",
       "3           0         0            1            0          1            0   \n",
       "4           1         0            0            1          0            0   \n",
       "\n",
       "   Unnamed: 14  Failure  Type  \n",
       "0            1       -1     4  \n",
       "1            0        1     0  \n",
       "2            0        1     2  \n",
       "3            0       -1     3  \n",
       "4            1       -1     4  "
      ]
     },
     "execution_count": 412,
     "metadata": {},
     "output_type": "execute_result"
    }
   ],
   "source": [
    "xl = pd.ExcelFile(\"Assignment_4_Data_and_Template.xlsx\")\n",
    "#df = xl.parse(xl.sheet_names[0],header=0, index_col=0)\n",
    "df = xl.parse(xl.sheet_names[0])\n",
    "df.head()\n"
   ]
  },
  {
   "cell_type": "code",
   "execution_count": 413,
   "metadata": {
    "collapsed": false
   },
   "outputs": [
    {
     "name": "stdout",
     "output_type": "stream",
     "text": [
      "(6600, 16)\n",
      "(6600, 1)\n",
      "(6600, 1)\n"
     ]
    }
   ],
   "source": [
    "A1 = df.reset_index().values\n",
    "A1T=np.transpose(A1)\n",
    "X = np.transpose(A1T[1:16])\n",
    "B = np.ones((X.shape[0],1), dtype=np.int)\n",
    "XA = np.concatenate((B,X), axis=1)\n",
    "TFail = np.transpose(A1T[16:17])\n",
    "TType = np.transpose(A1T[17:18])\n",
    "#print(X.shape)\n",
    "#print(X[:16])\n",
    "print(XA.shape)\n",
    "#print(XA)\n",
    "#print(TFail)\n",
    "print(TFail.shape)\n",
    "#print(TType)\n",
    "print(TType.shape)"
   ]
  },
  {
   "cell_type": "code",
   "execution_count": 414,
   "metadata": {
    "collapsed": false
   },
   "outputs": [
    {
     "name": "stdout",
     "output_type": "stream",
     "text": [
      "(6600,)\n"
     ]
    }
   ],
   "source": [
    "temp = np.transpose(TFail)\n",
    "# ground truth for failures\n",
    "TFailT=temp[0]\n",
    "print(TFailT.shape)\n"
   ]
  },
  {
   "cell_type": "code",
   "execution_count": 415,
   "metadata": {
    "collapsed": false
   },
   "outputs": [
    {
     "name": "stdout",
     "output_type": "stream",
     "text": [
      "(6600,)\n"
     ]
    }
   ],
   "source": [
    "temp = np.transpose(TType)\n",
    "# ground truth for types\n",
    "TTypeT=temp[0]\n",
    "print(TTypeT.shape)"
   ]
  },
  {
   "cell_type": "code",
   "execution_count": 416,
   "metadata": {
    "collapsed": false
   },
   "outputs": [
    {
     "name": "stdout",
     "output_type": "stream",
     "text": [
      "NumTrain = 6600, Failures = 3300, Non Failures = 3300\n"
     ]
    }
   ],
   "source": [
    "temp = np.transpose(TFail)\n",
    "TFailT=temp[0]\n",
    "NumTrainNoFail=(TFailT == 1).sum()\n",
    "NumTrainFail=(TFailT == -1).sum()\n",
    "NumTrain=len(TFailT)\n",
    "print(\"NumTrain = {}, Failures = {}, Non Failures = {}\".format(NumTrain,NumTrainFail,NumTrainNoFail))"
   ]
  },
  {
   "cell_type": "code",
   "execution_count": 417,
   "metadata": {
    "collapsed": false
   },
   "outputs": [
    {
     "name": "stdout",
     "output_type": "stream",
     "text": [
      "[[-1 -1 -1 -1  1 -1]\n",
      " [ 1 -1 -1 -1 -1 -1]\n",
      " [-1 -1  1 -1 -1 -1]\n",
      " ..., \n",
      " [ 1 -1 -1 -1 -1 -1]\n",
      " [ 1 -1 -1 -1 -1 -1]\n",
      " [-1 -1 -1  1 -1 -1]]\n"
     ]
    }
   ],
   "source": [
    "TTypeK=kesler(TType)\n",
    "print(TTypeK)"
   ]
  },
  {
   "cell_type": "markdown",
   "metadata": {},
   "source": [
    "# Training"
   ]
  },
  {
   "cell_type": "code",
   "execution_count": 418,
   "metadata": {
    "collapsed": false
   },
   "outputs": [
    {
     "name": "stdout",
     "output_type": "stream",
     "text": [
      "(16, 1)\n",
      "[[  2.94413221e-01]\n",
      " [ -7.32266635e-04]\n",
      " [ -1.08866787e-03]\n",
      " [ -5.54479443e-04]\n",
      " [ -6.23305624e-04]\n",
      " [ -2.58846750e-04]\n",
      " [ -8.87480321e-04]\n",
      " [  6.32307013e-02]\n",
      " [  1.86371969e-01]\n",
      " [  4.48105509e-02]\n",
      " [  5.27055537e-01]\n",
      " [ -1.92463071e-01]\n",
      " [ -4.01792449e-02]\n",
      " [  1.65623856e-01]\n",
      " [  9.07088949e-01]\n",
      " [ -7.78299584e-01]]\n"
     ]
    }
   ],
   "source": [
    "XaInv = np.linalg.pinv(XA)\n",
    "WFail = np.dot(XaInv, TFail)\n",
    "print(WFail.shape)\n",
    "print(WFail)\n"
   ]
  },
  {
   "cell_type": "code",
   "execution_count": 419,
   "metadata": {
    "collapsed": false
   },
   "outputs": [
    {
     "name": "stdout",
     "output_type": "stream",
     "text": [
      "(16, 6)\n",
      "[[  3.10076536e-01   2.06367231e-01  -1.22203055e+00  -1.02470911e-01\n",
      "    7.95346173e-02  -1.27147693e+00]\n",
      " [ -1.09947231e-03  -1.34378797e-03   1.71099365e-03  -7.36257903e-04\n",
      "   -7.07445591e-05   1.53926910e-03]\n",
      " [ -1.50009500e-03  -1.87036044e-03   2.28178757e-03  -4.84292730e-04\n",
      "   -1.66856669e-04   1.73981727e-03]\n",
      " [ -9.56771519e-04  -5.17947549e-04   9.20239625e-04  -7.15249651e-05\n",
      "   -5.12823616e-05   6.77286770e-04]\n",
      " [ -1.95908802e-03  -1.70154762e-03   3.03733002e-03  -1.57517925e-03\n",
      "   -1.56328122e-04   2.35481300e-03]\n",
      " [ -8.82855798e-04  -7.66170364e-04   1.39017941e-03  -7.19173484e-04\n",
      "   -1.25349559e-04   1.10336979e-03]\n",
      " [ -1.31128948e-03  -1.02932482e-03   1.45313398e-03   1.42700183e-04\n",
      "   -6.00243272e-05   8.04804465e-04]\n",
      " [  5.47900875e-02   1.40094335e-02  -3.38902153e-01  -4.20322099e-02\n",
      "    4.13375972e-01  -7.67907797e-01]\n",
      " [  2.58375804e-01   2.26702639e-01  -6.32039808e-01   3.48027685e-02\n",
      "   -7.35133390e-01   1.80625319e-01]\n",
      " [ -3.08935563e-03  -3.43448421e-02  -2.51088585e-01  -9.52414699e-02\n",
      "    4.01292036e-01  -6.84194450e-01]\n",
      " [  2.32724071e-01  -4.31615913e-02   4.15972412e-03  -2.03186009e-01\n",
      "    4.14425091e-01  -1.07162795e+00]\n",
      " [ -1.09695770e-01  -1.78923645e-02  -3.98208270e-01  -2.64414417e-02\n",
      "    4.03003448e-01  -5.17432268e-01]\n",
      " [  1.87048235e-01   2.67421186e-01  -8.27982000e-01   1.27156540e-01\n",
      "   -7.37893922e-01   3.17583293e-01]\n",
      " [ -1.04050790e-02   5.43315097e-01  -7.00619496e-01   3.63689730e-01\n",
      "   -6.29746910e-01  -2.32900009e-01]\n",
      " [  8.44469490e-01   1.93377122e-01  -4.64090996e-01   2.84444990e-02\n",
      "   -6.19798257e-01  -6.49068524e-01]\n",
      " [ -5.23987875e-01  -5.30324988e-01  -5.73200539e-02  -4.94605140e-01\n",
      "    1.32907978e+00  -3.89508394e-01]]\n"
     ]
    }
   ],
   "source": [
    "WType = np.dot(XaInv, TTypeK)\n",
    "print(WType.shape)\n",
    "print(WType)\n"
   ]
  },
  {
   "cell_type": "code",
   "execution_count": 420,
   "metadata": {
    "collapsed": false
   },
   "outputs": [
    {
     "name": "stdout",
     "output_type": "stream",
     "text": [
      "(6600, 16)\n",
      "(16, 1)\n",
      "(6600,)\n",
      "(6600,)\n",
      "[-1  1  1 ...,  1  1 -1]\n"
     ]
    }
   ],
   "source": [
    "print(XA.shape)\n",
    "print(WFail.shape)\n",
    "TTrainF = np.dot(XA, WFail)\n",
    "TTrainFOH = OneHot1D(TTrainF)\n",
    "print(TTrainFOH.shape)\n",
    "print(TTrainFOH)"
   ]
  },
  {
   "cell_type": "code",
   "execution_count": 421,
   "metadata": {
    "collapsed": true
   },
   "outputs": [],
   "source": [
    "def ConfMat(t,p):\n",
    "    c=np.zeros((2,2), dtype=np.int)\n",
    "    for i in range(t.shape[0]):\n",
    "        if ((t[i]==-1) and (p[i]==-1)):\n",
    "            c[0,0]+=1\n",
    "        if ((t[i]==-1) and (p[i]==1)):\n",
    "            c[0,1]+=1\n",
    "        if ((t[i]==1) and (p[i]==-1)):\n",
    "            c[1,0]+=1\n",
    "        if ((t[i]==1) and (p[i]==1)):\n",
    "            c[1,1]+=1\n",
    "    return c"
   ]
  },
  {
   "cell_type": "code",
   "execution_count": 422,
   "metadata": {
    "collapsed": false
   },
   "outputs": [
    {
     "name": "stdout",
     "output_type": "stream",
     "text": [
      "[[3229   71]\n",
      " [1150 2150]]\n",
      "[[3229   71]\n",
      " [1150 2150]]\n"
     ]
    }
   ],
   "source": [
    "# CMTrainFail = confusion_matrix(y_true, y_pred)\n",
    "CMF = confusion_matrix(TFailT, TTrainFOH)\n",
    "CMF2 = ConfMat(TFailT, TTrainFOH)\n",
    "print(CMF)\n",
    "print(CMF2)"
   ]
  },
  {
   "cell_type": "code",
   "execution_count": 423,
   "metadata": {
    "collapsed": true
   },
   "outputs": [],
   "source": [
    "Accuracy = (CMF[0,0]+CMF[1,1])/(CMF[0,0]+CMF[0,1]+CMF[1,0]+CMF[1,1])\n",
    "Sensitivity = (CMF[1,1])/(CMF[1,1]+CMF[1,0])\n",
    "Specificity = (CMF[0,0])/(CMF[0,0]+CMF[0,1])\n",
    "PPV = (CMF[1,1])/(CMF[0,1]+CMF[1,1])"
   ]
  },
  {
   "cell_type": "markdown",
   "metadata": {},
   "source": [
    "# Training Data : Type Classification"
   ]
  },
  {
   "cell_type": "code",
   "execution_count": 424,
   "metadata": {
    "collapsed": false
   },
   "outputs": [
    {
     "name": "stdout",
     "output_type": "stream",
     "text": [
      "(6600, 16)\n",
      "(16, 6)\n",
      "[4 0 2 ..., 2 0 5]\n"
     ]
    }
   ],
   "source": [
    "print(XA.shape)\n",
    "print(WType.shape)\n",
    "TTrainType = np.dot(XA, WType)\n",
    "maxTrindex=np.argmax(TTrainType, axis=1)\n",
    "print(maxTrindex)"
   ]
  },
  {
   "cell_type": "code",
   "execution_count": 425,
   "metadata": {
    "collapsed": false
   },
   "outputs": [
    {
     "name": "stdout",
     "output_type": "stream",
     "text": [
      "[[ 652   11  390    1    0   46]\n",
      " [   0  739    0  270    0   91]\n",
      " [ 216    0  872    0    0   12]\n",
      " [  15  532    2  176    0  375]\n",
      " [   0    7    0    0 1090    3]\n",
      " [  30  256    9   76    4  725]]\n"
     ]
    }
   ],
   "source": [
    "# CMTrainFail = confusion_matrix(y_true, y_pred)\n",
    "CMTrainType = confusion_matrix(TTypeT, maxTrindex)\n",
    "print(CMTrainType)"
   ]
  },
  {
   "cell_type": "code",
   "execution_count": 426,
   "metadata": {
    "collapsed": true
   },
   "outputs": [],
   "source": [
    "def ppvcomp(c):\n",
    "    colsum = np.sum(c, axis=0)\n",
    "    print(colsum)\n",
    "    p=np.zeros((c.shape[1]))   \n",
    "    r=np.zeros((2,2))   \n",
    "    for i in range(c.shape[1]):\n",
    "        p[i] = c[i][i]/colsum[i]\n",
    "    maxindex=np.argmax(p)\n",
    "    minindex=np.argmin(p)\n",
    "    hppv=100.0*p[maxindex]\n",
    "    lppv=100.0*p[minindex]\n",
    "    return hppv,maxindex,lppv,minindex\n",
    "       "
   ]
  },
  {
   "cell_type": "code",
   "execution_count": 427,
   "metadata": {
    "collapsed": false
   },
   "outputs": [
    {
     "name": "stdout",
     "output_type": "stream",
     "text": [
      "[ 913 1545 1273  523 1094 1252]\n",
      "99.634369287 4 33.6520076482 3\n"
     ]
    }
   ],
   "source": [
    "hppv,ppvmaxi,lppv,ppvmini=ppvcomp(CMTrainType)\n",
    "print(hppv,ppvmaxi,lppv,ppvmini)"
   ]
  },
  {
   "cell_type": "code",
   "execution_count": 428,
   "metadata": {
    "collapsed": false
   },
   "outputs": [
    {
     "data": {
      "text/plain": [
       "array([0, 6, 7])"
      ]
     },
     "execution_count": 428,
     "metadata": {},
     "output_type": "execute_result"
    }
   ],
   "source": [
    "np.sum([[0, 1, 3], [0, 5, 4]], axis=0)"
   ]
  },
  {
   "cell_type": "code",
   "execution_count": 429,
   "metadata": {
    "collapsed": false
   },
   "outputs": [
    {
     "data": {
      "text/plain": [
       "array([4, 9])"
      ]
     },
     "execution_count": 429,
     "metadata": {},
     "output_type": "execute_result"
    }
   ],
   "source": [
    "np.sum([[0, 1, 3], [0, 5, 4]], axis=1)"
   ]
  },
  {
   "cell_type": "markdown",
   "metadata": {},
   "source": [
    "# Testing - Classification"
   ]
  },
  {
   "cell_type": "code",
   "execution_count": 430,
   "metadata": {
    "collapsed": false
   },
   "outputs": [
    {
     "data": {
      "text/html": [
       "<div>\n",
       "<table border=\"1\" class=\"dataframe\">\n",
       "  <thead>\n",
       "    <tr style=\"text-align: right;\">\n",
       "      <th></th>\n",
       "      <th>Student to fill in boxes shaded</th>\n",
       "      <th>Unnamed: 1</th>\n",
       "      <th>Unnamed: 2</th>\n",
       "      <th>Unnamed: 3</th>\n",
       "      <th>Unnamed: 4</th>\n",
       "      <th>Unnamed: 5</th>\n",
       "      <th>Unnamed: 6</th>\n",
       "      <th>Unnamed: 7</th>\n",
       "      <th>Unnamed: 8</th>\n",
       "      <th>Unnamed: 9</th>\n",
       "      <th>Unnamed: 10</th>\n",
       "      <th>Unnamed: 11</th>\n",
       "      <th>Unnamed: 12</th>\n",
       "      <th>Unnamed: 13</th>\n",
       "      <th>Unnamed: 14</th>\n",
       "      <th>Unnamed: 15</th>\n",
       "      <th>Unnamed: 16</th>\n",
       "    </tr>\n",
       "  </thead>\n",
       "  <tbody>\n",
       "    <tr>\n",
       "      <th>0</th>\n",
       "      <td>NaN</td>\n",
       "      <td>NaN</td>\n",
       "      <td>NaN</td>\n",
       "      <td>NaN</td>\n",
       "      <td>NaN</td>\n",
       "      <td>NaN</td>\n",
       "      <td>NaN</td>\n",
       "      <td>NaN</td>\n",
       "      <td>NaN</td>\n",
       "      <td>NaN</td>\n",
       "      <td>NaN</td>\n",
       "      <td>NaN</td>\n",
       "      <td>NaN</td>\n",
       "      <td>NaN</td>\n",
       "      <td>NaN</td>\n",
       "      <td>NaN</td>\n",
       "      <td>NaN</td>\n",
       "    </tr>\n",
       "    <tr>\n",
       "      <th>1</th>\n",
       "      <td>NaN</td>\n",
       "      <td>NaN</td>\n",
       "      <td>NaN</td>\n",
       "      <td>NaN</td>\n",
       "      <td>NaN</td>\n",
       "      <td>NaN</td>\n",
       "      <td>NaN</td>\n",
       "      <td>NaN</td>\n",
       "      <td>NaN</td>\n",
       "      <td>NaN</td>\n",
       "      <td>NaN</td>\n",
       "      <td>NaN</td>\n",
       "      <td>NaN</td>\n",
       "      <td>NaN</td>\n",
       "      <td>NaN</td>\n",
       "      <td>NaN</td>\n",
       "      <td>NaN</td>\n",
       "    </tr>\n",
       "    <tr>\n",
       "      <th>2</th>\n",
       "      <td>Temperature</td>\n",
       "      <td>x-acc</td>\n",
       "      <td>y-acc</td>\n",
       "      <td>z-acc</td>\n",
       "      <td>Pressure</td>\n",
       "      <td>Load</td>\n",
       "      <td>Flow</td>\n",
       "      <td>NaN</td>\n",
       "      <td>NaN</td>\n",
       "      <td>Nitrogen</td>\n",
       "      <td>NaN</td>\n",
       "      <td>NaN</td>\n",
       "      <td>Frequency</td>\n",
       "      <td>NaN</td>\n",
       "      <td>NaN</td>\n",
       "      <td>Failure</td>\n",
       "      <td>Type</td>\n",
       "    </tr>\n",
       "    <tr>\n",
       "      <th>3</th>\n",
       "      <td>160</td>\n",
       "      <td>200</td>\n",
       "      <td>140</td>\n",
       "      <td>140</td>\n",
       "      <td>260</td>\n",
       "      <td>140</td>\n",
       "      <td>0</td>\n",
       "      <td>1.0</td>\n",
       "      <td>0.0</td>\n",
       "      <td>0</td>\n",
       "      <td>1.0</td>\n",
       "      <td>0.0</td>\n",
       "      <td>1</td>\n",
       "      <td>0.0</td>\n",
       "      <td>0.0</td>\n",
       "      <td>NaN</td>\n",
       "      <td>NaN</td>\n",
       "    </tr>\n",
       "    <tr>\n",
       "      <th>4</th>\n",
       "      <td>140</td>\n",
       "      <td>160</td>\n",
       "      <td>120</td>\n",
       "      <td>160</td>\n",
       "      <td>140</td>\n",
       "      <td>160</td>\n",
       "      <td>0</td>\n",
       "      <td>0.0</td>\n",
       "      <td>1.0</td>\n",
       "      <td>0</td>\n",
       "      <td>0.0</td>\n",
       "      <td>1.0</td>\n",
       "      <td>0</td>\n",
       "      <td>0.0</td>\n",
       "      <td>1.0</td>\n",
       "      <td>NaN</td>\n",
       "      <td>NaN</td>\n",
       "    </tr>\n",
       "  </tbody>\n",
       "</table>\n",
       "</div>"
      ],
      "text/plain": [
       "  Student to fill in boxes shaded  Unnamed: 1 Unnamed: 2 Unnamed: 3  \\\n",
       "0                              NaN        NaN        NaN        NaN   \n",
       "1                              NaN        NaN        NaN        NaN   \n",
       "2                      Temperature      x-acc      y-acc      z-acc   \n",
       "3                              160        200        140        140   \n",
       "4                              140        160        120        160   \n",
       "\n",
       "  Unnamed: 4 Unnamed: 5 Unnamed: 6  Unnamed: 7  Unnamed: 8 Unnamed: 9  \\\n",
       "0        NaN        NaN        NaN         NaN         NaN        NaN   \n",
       "1        NaN        NaN        NaN         NaN         NaN        NaN   \n",
       "2   Pressure       Load       Flow         NaN         NaN   Nitrogen   \n",
       "3        260        140          0         1.0         0.0          0   \n",
       "4        140        160          0         0.0         1.0          0   \n",
       "\n",
       "   Unnamed: 10  Unnamed: 11 Unnamed: 12  Unnamed: 13  Unnamed: 14 Unnamed: 15  \\\n",
       "0          NaN          NaN         NaN          NaN          NaN         NaN   \n",
       "1          NaN          NaN         NaN          NaN          NaN         NaN   \n",
       "2          NaN          NaN   Frequency          NaN          NaN     Failure   \n",
       "3          1.0          0.0           1          0.0          0.0         NaN   \n",
       "4          0.0          1.0           0          0.0          1.0         NaN   \n",
       "\n",
       "  Unnamed: 16  \n",
       "0         NaN  \n",
       "1         NaN  \n",
       "2        Type  \n",
       "3         NaN  \n",
       "4         NaN  "
      ]
     },
     "execution_count": 430,
     "metadata": {},
     "output_type": "execute_result"
    }
   ],
   "source": [
    "dft = xl.parse(xl.sheet_names[2])\n",
    "dft.head()\n"
   ]
  },
  {
   "cell_type": "markdown",
   "metadata": {},
   "source": [
    "# Test Data"
   ]
  },
  {
   "cell_type": "code",
   "execution_count": 431,
   "metadata": {
    "collapsed": false
   },
   "outputs": [],
   "source": [
    "AT1 = dft.reset_index(3).values\n",
    "AT1=AT1[3:]\n",
    "AT1T=np.transpose(AT1)\n",
    "XT = np.transpose(AT1T[1:16])\n",
    "B = np.ones((XT.shape[0],1), dtype=np.int)\n",
    "XTA = np.concatenate((B,XT), axis=1)\n"
   ]
  },
  {
   "cell_type": "markdown",
   "metadata": {},
   "source": [
    "# Test Data : Failure Classification"
   ]
  },
  {
   "cell_type": "code",
   "execution_count": 432,
   "metadata": {
    "collapsed": false
   },
   "outputs": [
    {
     "name": "stdout",
     "output_type": "stream",
     "text": [
      "(50, 16)\n",
      "(16, 1)\n",
      "(50,)\n",
      "(50,)\n",
      "[-1 -1  1 -1 -1 -1  1 -1 -1 -1  1 -1 -1 -1  1 -1 -1 -1 -1  1 -1 -1 -1 -1 -1\n",
      " -1  1 -1 -1 -1  1  1  1  1 -1 -1 -1 -1  1 -1  1 -1 -1 -1 -1  1 -1  1 -1  1]\n"
     ]
    }
   ],
   "source": [
    "NumTest = XTA.shape[0]\n",
    "print(XTA.shape)\n",
    "print(WFail.shape)\n",
    "TTestF = np.dot(XTA, WFail)\n",
    "TTestFOH = OneHot1D(TTestF)\n",
    "print(TTestFOH.shape)\n",
    "print(TTestFOH)\n"
   ]
  },
  {
   "cell_type": "markdown",
   "metadata": {},
   "source": [
    "# Test Data : Type Classification"
   ]
  },
  {
   "cell_type": "code",
   "execution_count": 433,
   "metadata": {
    "collapsed": false
   },
   "outputs": [
    {
     "name": "stdout",
     "output_type": "stream",
     "text": [
      "(50, 16)\n",
      "(16, 6)\n",
      "[1 4 0 4 4 5 0 4 5 1 2 3 1 4 0 1 5 5 1 0 5 5 4 5 4 3 2 4 4 4 2 0 2 2 5 1 1\n",
      " 5 2 5 2 4 1 5 1 2 5 2 4 2]\n"
     ]
    }
   ],
   "source": [
    "print(XTA.shape)\n",
    "print(WType.shape)\n",
    "TTestType = np.dot(XTA, WType)\n",
    "TTestTypeClass=np.argmax(TTestType, axis=1)\n",
    "print(TTestTypeClass)"
   ]
  },
  {
   "cell_type": "markdown",
   "metadata": {},
   "source": [
    "# Writing to Excel"
   ]
  },
  {
   "cell_type": "code",
   "execution_count": 434,
   "metadata": {
    "collapsed": true
   },
   "outputs": [],
   "source": [
    "def writex(val,row,col,sheet):\n",
    "    arr=np.array([[val]])\n",
    "    writeExcelData(arr[0:1,:], excelfile, sheet, row, col)"
   ]
  },
  {
   "cell_type": "code",
   "execution_count": 435,
   "metadata": {
    "collapsed": false
   },
   "outputs": [
    {
     "name": "stdout",
     "output_type": "stream",
     "text": [
      "Done Classifier\n",
      "Done To be classified\n",
      "Done Performance\n"
     ]
    }
   ],
   "source": [
    "# Classifiers Page \n",
    "\n",
    "# Binary Classifier\n",
    "writeExcelData(WFail, excelfile, 'Classifiers', 5, 1)\n",
    "\n",
    "# 6-Class Classifier\n",
    "writeExcelData(WType[:,:], excelfile, 'Classifiers', 5, 5)\n",
    "\n",
    "print(\"Done Classifier\")\n",
    "\n",
    "# To be classified Page \n",
    "\n",
    "# Failure Classification: Test Data\n",
    "writeExcelData(TTestFOH, excelfile, 'To be classified', 5, 16)\n",
    "\n",
    "# Type Classification: Test Data\n",
    "writeExcelData(TTestTypeClass, excelfile, 'To be classified', 5, 17)\n",
    "\n",
    "print(\"Done To be classified\")\n",
    "\n",
    "\n",
    "# Performance Page \n",
    "\n",
    "# Binary Classifier Confusion Matrix\n",
    "writeExcelData(CMF[:,:], excelfile, 'Performance', 10, 3)\n",
    "\n",
    "# 6-Class Classifier\n",
    "writeExcelData(CMTrainType[:,:], excelfile, 'Performance', 19, 3)\n",
    "\n",
    "# Accuracy, Sensitivity, Specificity, PPV\n",
    "writex(Accuracy,8,7,'Performance')\n",
    "writex(Sensitivity,9,7,'Performance')\n",
    "writex(Specificity,10,7,'Performance')\n",
    "writex(PPV,11,7,'Performance')\n",
    "\n",
    "# Highest and Lowest PPV\n",
    "writex(hppv,20,12,'Performance')\n",
    "writex(ppvmaxi,20,13,'Performance')\n",
    "writex(lppv,21,12,'Performance')\n",
    "writex(ppvmini,21,13,'Performance')\n",
    "\n",
    "print(\"Done Performance\")\n"
   ]
  }
 ],
 "metadata": {
  "kernelspec": {
   "display_name": "Python 3",
   "language": "python",
   "name": "python3"
  },
  "language_info": {
   "codemirror_mode": {
    "name": "ipython",
    "version": 3
   },
   "file_extension": ".py",
   "mimetype": "text/x-python",
   "name": "python",
   "nbconvert_exporter": "python",
   "pygments_lexer": "ipython3",
   "version": "3.6.0"
  }
 },
 "nbformat": 4,
 "nbformat_minor": 2
}
