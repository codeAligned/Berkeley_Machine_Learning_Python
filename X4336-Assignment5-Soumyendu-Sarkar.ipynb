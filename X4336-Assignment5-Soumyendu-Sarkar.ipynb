{
 "cells": [
  {
   "cell_type": "markdown",
   "metadata": {},
   "source": [
    "Assignment # 5 CompSci X 433.6"
   ]
  },
  {
   "cell_type": "code",
   "execution_count": 294,
   "metadata": {
    "collapsed": true
   },
   "outputs": [],
   "source": [
    "from os.path import join, dirname, abspath\n",
    "import xlrd\n",
    "import numpy as np\n",
    "import matplotlib.pyplot as plt"
   ]
  },
  {
   "cell_type": "code",
   "execution_count": 295,
   "metadata": {
    "collapsed": true
   },
   "outputs": [],
   "source": [
    "ht = lambda x,y: (x*12 + y) #height return "
   ]
  },
  {
   "cell_type": "code",
   "execution_count": 296,
   "metadata": {
    "collapsed": false
   },
   "outputs": [
    {
     "data": {
      "text/html": [
       "<div>\n",
       "<table border=\"1\" class=\"dataframe\">\n",
       "  <thead>\n",
       "    <tr style=\"text-align: right;\">\n",
       "      <th></th>\n",
       "      <th>Height_Feet</th>\n",
       "      <th>Height_Inches</th>\n",
       "      <th>Gender</th>\n",
       "    </tr>\n",
       "  </thead>\n",
       "  <tbody>\n",
       "    <tr>\n",
       "      <th>0</th>\n",
       "      <td>5</td>\n",
       "      <td>10</td>\n",
       "      <td>Male</td>\n",
       "    </tr>\n",
       "    <tr>\n",
       "      <th>1</th>\n",
       "      <td>6</td>\n",
       "      <td>4</td>\n",
       "      <td>Male</td>\n",
       "    </tr>\n",
       "    <tr>\n",
       "      <th>2</th>\n",
       "      <td>5</td>\n",
       "      <td>10</td>\n",
       "      <td>Male</td>\n",
       "    </tr>\n",
       "    <tr>\n",
       "      <th>3</th>\n",
       "      <td>5</td>\n",
       "      <td>9</td>\n",
       "      <td>Male</td>\n",
       "    </tr>\n",
       "    <tr>\n",
       "      <th>4</th>\n",
       "      <td>5</td>\n",
       "      <td>7</td>\n",
       "      <td>Female</td>\n",
       "    </tr>\n",
       "  </tbody>\n",
       "</table>\n",
       "</div>"
      ],
      "text/plain": [
       "   Height_Feet  Height_Inches  Gender\n",
       "0            5             10    Male\n",
       "1            6              4    Male\n",
       "2            5             10    Male\n",
       "3            5              9    Male\n",
       "4            5              7  Female"
      ]
     },
     "execution_count": 296,
     "metadata": {},
     "output_type": "execute_result"
    }
   ],
   "source": [
    "import pandas as pd\n",
    "xl = pd.ExcelFile(\"Assignment_1_Data_and_Template.xlsx\")\n",
    "df = xl.parse(xl.sheet_names[0])\n",
    "df.head()"
   ]
  },
  {
   "cell_type": "code",
   "execution_count": 297,
   "metadata": {
    "collapsed": false
   },
   "outputs": [
    {
     "data": {
      "text/html": [
       "<div>\n",
       "<table border=\"1\" class=\"dataframe\">\n",
       "  <thead>\n",
       "    <tr style=\"text-align: right;\">\n",
       "      <th></th>\n",
       "      <th>Height_Feet</th>\n",
       "      <th>Height_Inches</th>\n",
       "      <th>Gender</th>\n",
       "      <th>height</th>\n",
       "    </tr>\n",
       "  </thead>\n",
       "  <tbody>\n",
       "    <tr>\n",
       "      <th>0</th>\n",
       "      <td>5</td>\n",
       "      <td>10</td>\n",
       "      <td>Male</td>\n",
       "      <td>70</td>\n",
       "    </tr>\n",
       "    <tr>\n",
       "      <th>1</th>\n",
       "      <td>6</td>\n",
       "      <td>4</td>\n",
       "      <td>Male</td>\n",
       "      <td>76</td>\n",
       "    </tr>\n",
       "    <tr>\n",
       "      <th>2</th>\n",
       "      <td>5</td>\n",
       "      <td>10</td>\n",
       "      <td>Male</td>\n",
       "      <td>70</td>\n",
       "    </tr>\n",
       "    <tr>\n",
       "      <th>3</th>\n",
       "      <td>5</td>\n",
       "      <td>9</td>\n",
       "      <td>Male</td>\n",
       "      <td>69</td>\n",
       "    </tr>\n",
       "    <tr>\n",
       "      <th>4</th>\n",
       "      <td>5</td>\n",
       "      <td>7</td>\n",
       "      <td>Female</td>\n",
       "      <td>67</td>\n",
       "    </tr>\n",
       "  </tbody>\n",
       "</table>\n",
       "</div>"
      ],
      "text/plain": [
       "   Height_Feet  Height_Inches  Gender  height\n",
       "0            5             10    Male      70\n",
       "1            6              4    Male      76\n",
       "2            5             10    Male      70\n",
       "3            5              9    Male      69\n",
       "4            5              7  Female      67"
      ]
     },
     "execution_count": 297,
     "metadata": {},
     "output_type": "execute_result"
    }
   ],
   "source": [
    "df['height']=ht(df.Height_Feet,df.Height_Inches)\n",
    "df.head()"
   ]
  },
  {
   "cell_type": "code",
   "execution_count": 298,
   "metadata": {
    "collapsed": false
   },
   "outputs": [],
   "source": [
    "df = df.sort_values(['height', 'Gender'], ascending=[1, 1])\n",
    "A = df.reset_index().values"
   ]
  },
  {
   "cell_type": "code",
   "execution_count": 299,
   "metadata": {
    "collapsed": false
   },
   "outputs": [
    {
     "data": {
      "text/html": [
       "<div>\n",
       "<table border=\"1\" class=\"dataframe\">\n",
       "  <thead>\n",
       "    <tr style=\"text-align: right;\">\n",
       "      <th></th>\n",
       "      <th>Height_Feet</th>\n",
       "      <th>Height_Inches</th>\n",
       "      <th>Gender</th>\n",
       "      <th>height</th>\n",
       "    </tr>\n",
       "  </thead>\n",
       "  <tbody>\n",
       "    <tr>\n",
       "      <th>2781</th>\n",
       "      <td>4</td>\n",
       "      <td>4</td>\n",
       "      <td>Female</td>\n",
       "      <td>52</td>\n",
       "    </tr>\n",
       "    <tr>\n",
       "      <th>7601</th>\n",
       "      <td>4</td>\n",
       "      <td>4</td>\n",
       "      <td>Female</td>\n",
       "      <td>52</td>\n",
       "    </tr>\n",
       "    <tr>\n",
       "      <th>7871</th>\n",
       "      <td>4</td>\n",
       "      <td>4</td>\n",
       "      <td>Female</td>\n",
       "      <td>52</td>\n",
       "    </tr>\n",
       "    <tr>\n",
       "      <th>5132</th>\n",
       "      <td>4</td>\n",
       "      <td>5</td>\n",
       "      <td>Female</td>\n",
       "      <td>53</td>\n",
       "    </tr>\n",
       "    <tr>\n",
       "      <th>6853</th>\n",
       "      <td>4</td>\n",
       "      <td>5</td>\n",
       "      <td>Female</td>\n",
       "      <td>53</td>\n",
       "    </tr>\n",
       "  </tbody>\n",
       "</table>\n",
       "</div>"
      ],
      "text/plain": [
       "      Height_Feet  Height_Inches  Gender  height\n",
       "2781            4              4  Female      52\n",
       "7601            4              4  Female      52\n",
       "7871            4              4  Female      52\n",
       "5132            4              5  Female      53\n",
       "6853            4              5  Female      53"
      ]
     },
     "execution_count": 299,
     "metadata": {},
     "output_type": "execute_result"
    }
   ],
   "source": [
    "df.head()"
   ]
  },
  {
   "cell_type": "code",
   "execution_count": 300,
   "metadata": {
    "collapsed": false
   },
   "outputs": [
    {
     "name": "stdout",
     "output_type": "stream",
     "text": [
      "(16700, 5)\n"
     ]
    }
   ],
   "source": [
    "print(A.shape)"
   ]
  },
  {
   "cell_type": "code",
   "execution_count": 301,
   "metadata": {
    "collapsed": false
   },
   "outputs": [],
   "source": [
    "AT=np.transpose(A)"
   ]
  },
  {
   "cell_type": "code",
   "execution_count": 302,
   "metadata": {
    "collapsed": false
   },
   "outputs": [
    {
     "data": {
      "text/plain": [
       "array([[2781, 7601, 7871, ..., 8656, 14785, 15242],\n",
       "       [4, 4, 4, ..., 6, 6, 6],\n",
       "       [4, 4, 4, ..., 10, 10, 11],\n",
       "       ['Female', 'Female', 'Female', ..., 'Male', 'Male', 'Male'],\n",
       "       [52, 52, 52, ..., 82, 82, 83]], dtype=object)"
      ]
     },
     "execution_count": 302,
     "metadata": {},
     "output_type": "execute_result"
    }
   ],
   "source": [
    "AT"
   ]
  },
  {
   "cell_type": "code",
   "execution_count": 303,
   "metadata": {
    "collapsed": false
   },
   "outputs": [],
   "source": [
    "X=AT[4]"
   ]
  },
  {
   "cell_type": "code",
   "execution_count": 304,
   "metadata": {
    "collapsed": false
   },
   "outputs": [
    {
     "name": "stdout",
     "output_type": "stream",
     "text": [
      "[52 52 52 ..., 82 82 83]\n",
      "83\n",
      "52\n"
     ]
    }
   ],
   "source": [
    "print(X)\n",
    "print(np.max(X))\n",
    "print(np.min(X))\n"
   ]
  },
  {
   "cell_type": "code",
   "execution_count": 305,
   "metadata": {
    "collapsed": true
   },
   "outputs": [],
   "source": [
    "T=AT[3]"
   ]
  },
  {
   "cell_type": "code",
   "execution_count": 306,
   "metadata": {
    "collapsed": false
   },
   "outputs": [
    {
     "name": "stdout",
     "output_type": "stream",
     "text": [
      "['Female' 'Female' 'Female' ..., 'Male' 'Male' 'Male']\n"
     ]
    }
   ],
   "source": [
    "print(T)"
   ]
  },
  {
   "cell_type": "code",
   "execution_count": 307,
   "metadata": {
    "collapsed": false
   },
   "outputs": [
    {
     "name": "stdout",
     "output_type": "stream",
     "text": [
      "Females = 8900, Males = 7800, Total = 16700\n"
     ]
    }
   ],
   "source": [
    "NumTN=(T == \"Female\").sum()\n",
    "NumTP=(T == \"Male\").sum()\n",
    "NumT = np.count_nonzero(T)\n",
    "print(\"Females = {}, Males = {}, Total = {}\".format(NumTN,NumTP, NumT))"
   ]
  },
  {
   "cell_type": "code",
   "execution_count": 309,
   "metadata": {
    "collapsed": false
   },
   "outputs": [
    {
     "name": "stdout",
     "output_type": "stream",
     "text": [
      "[-1 -1 -1 ..., 1 1 1]\n"
     ]
    }
   ],
   "source": [
    "T[T == 'Female'] = -1\n",
    "T[T == 'Male'] = 1\n",
    "print(T)"
   ]
  },
  {
   "cell_type": "code",
   "execution_count": null,
   "metadata": {
    "collapsed": true
   },
   "outputs": [],
   "source": []
  },
  {
   "cell_type": "code",
   "execution_count": null,
   "metadata": {
    "collapsed": true
   },
   "outputs": [],
   "source": []
  },
  {
   "cell_type": "code",
   "execution_count": null,
   "metadata": {
    "collapsed": true
   },
   "outputs": [],
   "source": []
  },
  {
   "cell_type": "code",
   "execution_count": null,
   "metadata": {
    "collapsed": true
   },
   "outputs": [],
   "source": []
  },
  {
   "cell_type": "code",
   "execution_count": 244,
   "metadata": {
    "collapsed": true
   },
   "outputs": [],
   "source": [
    "B=32"
   ]
  },
  {
   "cell_type": "code",
   "execution_count": 245,
   "metadata": {
    "collapsed": false
   },
   "outputs": [],
   "source": [
    "def Build1HistogramClassifierF(X,T,B,xmin,xmax):\n",
    "    HF=np.zeros(B).astype('int32')\n",
    "    HM=np.zeros(B).astype('int32')\n",
    "    for i in range(0,X.size):\n",
    "        b=(np.round(((B-1)*(X[i]-xmin)/(xmax-xmin)))).astype('int32')\n",
    "        if T[i]=='Female':\n",
    "            HF[b]+=1;\n",
    "        else:\n",
    "            HM[b]+=1;\n",
    "    return HF, HM"
   ]
  },
  {
   "cell_type": "code",
   "execution_count": 246,
   "metadata": {
    "collapsed": false
   },
   "outputs": [],
   "source": [
    "HISTF,HISTM = Build1HistogramClassifierF(X,T,32,np.min(X),np.max(X))"
   ]
  },
  {
   "cell_type": "code",
   "execution_count": 247,
   "metadata": {
    "collapsed": false
   },
   "outputs": [
    {
     "data": {
      "image/png": "[encoded data removed]",
      "text/plain": [
       "<matplotlib.figure.Figure at 0x1b2d9f75860>"
      ]
     },
     "metadata": {},
     "output_type": "display_data"
    }
   ],
   "source": [
    "y_pos = np.arange(len(HISTF))\n",
    "plt.bar(y_pos, HISTF, align='center', alpha=0.5)\n",
    "plt.bar(y_pos, HISTM, align='center', alpha=0.5)\n",
    "plt.xlabel('Height')\n",
    "plt.ylabel('Population')\n",
    "plt.title('Population Height Dist')\n",
    "plt.show()\n",
    "\n"
   ]
  },
  {
   "cell_type": "code",
   "execution_count": 248,
   "metadata": {
    "collapsed": false
   },
   "outputs": [
    {
     "name": "stdout",
     "output_type": "stream",
     "text": [
      "Min Height = 52\n",
      "Max Height = 83\n"
     ]
    }
   ],
   "source": [
    "print(\"Min Height = {}\".format(np.min(X)))\n",
    "print(\"Max Height = {}\".format(np.max(X)))\n"
   ]
  },
  {
   "cell_type": "code",
   "execution_count": 249,
   "metadata": {
    "collapsed": false
   },
   "outputs": [
    {
     "name": "stdout",
     "output_type": "stream",
     "text": [
      "Histogram Female = [   3    5   12   24   44  101  163  260  404  549  693  869 1076 1013  951\n",
      "  823  695  494  299  217  110   58   20   12    5    0    0    0    0    0\n",
      "    0    0]\n"
     ]
    }
   ],
   "source": [
    "print(\"Histogram Female = {}\".format(HISTF))"
   ]
  },
  {
   "cell_type": "code",
   "execution_count": 250,
   "metadata": {
    "collapsed": false
   },
   "outputs": [
    {
     "name": "stdout",
     "output_type": "stream",
     "text": [
      "Histogram Male = [  0   0   0   0   0   0   0   0   1  10  14  53 117 241 369 500 700 787\n",
      " 849 882 873 779 610 432 274 155  83  38  24   5   3   1]\n"
     ]
    }
   ],
   "source": [
    "print(\"Histogram Male = {}\".format(HISTM))"
   ]
  },
  {
   "cell_type": "code",
   "execution_count": 251,
   "metadata": {
    "collapsed": false
   },
   "outputs": [
    {
     "name": "stdout",
     "output_type": "stream",
     "text": [
      "[52 53 54 55 56 57 58 59 60 61 62 63 64 65 66 67 68 69 70 71 72 73 74 75 76\n",
      " 77 78 79 80 81 82 83]\n"
     ]
    }
   ],
   "source": [
    "wt = np.array(range(np.min(X), np.max(X)+1))\n",
    "print(wt)"
   ]
  },
  {
   "cell_type": "code",
   "execution_count": 252,
   "metadata": {
    "collapsed": false
   },
   "outputs": [],
   "source": [
    "def CompMeanSD(hist, wt):\n",
    "    hsum = np.dot(hist, wt)\n",
    "    hnum = np.sum(hist)\n",
    "    hmean = hsum/hnum\n",
    "    wtsq = wt*wt\n",
    "    hvar = ((np.dot(hist,wtsq))/hnum) - hmean*hmean\n",
    "    hsd = np.sqrt(hvar)\n",
    "    return hnum, hmean, hsd\n"
   ]
  },
  {
   "cell_type": "code",
   "execution_count": 253,
   "metadata": {
    "collapsed": false
   },
   "outputs": [],
   "source": [
    "def CompMeanSDPartioalData(hist, wt):\n",
    "    hsum = np.dot(hist, wt)\n",
    "    hnum = np.sum(hist)\n",
    "    hmean = hsum/hnum\n",
    "    hdiff = wt - hmean\n",
    "    hdiffsq = hdiff*hdiff\n",
    "    hvar = (np.dot(hist,hdiffsq))/(hnum-1)\n",
    "    hsd = np.sqrt(hvar)\n",
    "    return hnum, hmean, hsd\n"
   ]
  },
  {
   "cell_type": "code",
   "execution_count": 254,
   "metadata": {
    "collapsed": false
   },
   "outputs": [
    {
     "name": "stdout",
     "output_type": "stream",
     "text": [
      "Female Height: Mean = 64.72573033707866, Standard Deviation = 3.478239057126026, Number = 8900\n"
     ]
    }
   ],
   "source": [
    "Fnum, Fmean, Fsd = CompMeanSD(HISTF, wt)\n",
    "print(\"Female Height: Mean = {}, Standard Deviation = {}, Number = {}\".format(Fmean,Fsd,Fnum))\n"
   ]
  },
  {
   "cell_type": "code",
   "execution_count": 255,
   "metadata": {
    "collapsed": false
   },
   "outputs": [
    {
     "data": {
      "text/plain": [
       "'\\nFsum = np.dot(HISTF, wt)\\nFnum = np.sum(HISTF)\\nFmean = Fsum/Fnum\\nwtsq = wt*wt\\nFvar = ((np.dot(HISTF,wtsq))/Fnum) - Fmean*Fmean\\nFsd = np.sqrt(Fvar)\\nprint(\"Female Height: Mean = {}, Standard Deviation = {}, Number = {}\".format(Fmean,Fsd,Fnum))\\n'"
      ]
     },
     "execution_count": 255,
     "metadata": {},
     "output_type": "execute_result"
    }
   ],
   "source": [
    "\"\"\"\n",
    "Fsum = np.dot(HISTF, wt)\n",
    "Fnum = np.sum(HISTF)\n",
    "Fmean = Fsum/Fnum\n",
    "wtsq = wt*wt\n",
    "Fvar = ((np.dot(HISTF,wtsq))/Fnum) - Fmean*Fmean\n",
    "Fsd = np.sqrt(Fvar)\n",
    "print(\"Female Height: Mean = {}, Standard Deviation = {}, Number = {}\".format(Fmean,Fsd,Fnum))\n",
    "\"\"\"\n"
   ]
  },
  {
   "cell_type": "code",
   "execution_count": 256,
   "metadata": {
    "collapsed": false
   },
   "outputs": [
    {
     "name": "stdout",
     "output_type": "stream",
     "text": [
      "Male Height: Mean = 70.76807692307692, Standard Deviation = 3.3094552025481083, Number = 7800\n"
     ]
    }
   ],
   "source": [
    "Mnum, Mmean, Msd = CompMeanSD(HISTM, wt)\n",
    "print(\"Male Height: Mean = {}, Standard Deviation = {}, Number = {}\".format(Mmean,Msd,Mnum))\n"
   ]
  },
  {
   "cell_type": "code",
   "execution_count": 257,
   "metadata": {
    "collapsed": false
   },
   "outputs": [
    {
     "data": {
      "text/plain": [
       "'\\nMsum = np.dot(HISTM, wt)\\nMnum = np.sum(HISTM)\\nMmean = Msum/Mnum\\nMvar = ((np.dot(HISTM,wtsq))/Mnum) - Mmean*Mmean\\nMsd = np.sqrt(Mvar)\\n\\nprint(\"Male Height: Mean = {}, Standard Deviation = {}, Number = {}\".format(Mmean,Msd,Mnum))\\n'"
      ]
     },
     "execution_count": 257,
     "metadata": {},
     "output_type": "execute_result"
    }
   ],
   "source": [
    "\"\"\"\n",
    "Msum = np.dot(HISTM, wt)\n",
    "Mnum = np.sum(HISTM)\n",
    "Mmean = Msum/Mnum\n",
    "Mvar = ((np.dot(HISTM,wtsq))/Mnum) - Mmean*Mmean\n",
    "Msd = np.sqrt(Mvar)\n",
    "\n",
    "print(\"Male Height: Mean = {}, Standard Deviation = {}, Number = {}\".format(Mmean,Msd,Mnum))\n",
    "\"\"\""
   ]
  },
  {
   "cell_type": "code",
   "execution_count": 258,
   "metadata": {
    "collapsed": true
   },
   "outputs": [],
   "source": [
    "def QueryHist(histo, val, offset, num):\n",
    "    return (histo[val-offset]/num)"
   ]
  },
  {
   "cell_type": "code",
   "execution_count": 259,
   "metadata": {
    "collapsed": true
   },
   "outputs": [],
   "source": [
    "queryhist = lambda histo, val, offset, num: (histo[val-offset]/num) #height return "
   ]
  },
  {
   "cell_type": "code",
   "execution_count": 260,
   "metadata": {
    "collapsed": false
   },
   "outputs": [
    {
     "name": "stdout",
     "output_type": "stream",
     "text": [
      "0.00269662921348\n"
     ]
    }
   ],
   "source": [
    "prf55=queryhist(HISTF,55,np.min(X),Fnum)\n",
    "print(prf55)"
   ]
  },
  {
   "cell_type": "code",
   "execution_count": 261,
   "metadata": {
    "collapsed": false
   },
   "outputs": [
    {
     "name": "stdout",
     "output_type": "stream",
     "text": [
      "0.00269662921348\n"
     ]
    }
   ],
   "source": [
    "prf55=QueryHist(HISTF,55,np.min(X),Fnum)\n",
    "print(prf55)"
   ]
  },
  {
   "cell_type": "code",
   "execution_count": 262,
   "metadata": {
    "collapsed": false
   },
   "outputs": [
    {
     "name": "stdout",
     "output_type": "stream",
     "text": [
      "1.0\n"
     ]
    }
   ],
   "source": [
    "sum=0\n",
    "for i in range(52,84):\n",
    "    sum+=queryhist(HISTF,i,np.min(X),Fnum)\n",
    "    print\n",
    "print(sum)"
   ]
  },
  {
   "cell_type": "code",
   "execution_count": 263,
   "metadata": {
    "collapsed": false
   },
   "outputs": [
    {
     "name": "stdout",
     "output_type": "stream",
     "text": [
      "[55 60 65 70 75 80]\n",
      "Female Histogram: [ 0.00269663  0.04539326  0.11382022  0.03359551  0.00134831  0.        ]\n"
     ]
    }
   ],
   "source": [
    "Vdist = np.array(range(55,85,5))\n",
    "Fdist = np.zeros(6)\n",
    "for i in range(0,6,1):\n",
    "    Fdist[i]=queryhist(HISTF,Vdist[i],np.min(X),Fnum)\n",
    "print(Vdist)\n",
    "print(\"Female Histogram: {}\".format(Fdist))"
   ]
  },
  {
   "cell_type": "code",
   "execution_count": 264,
   "metadata": {
    "collapsed": false
   },
   "outputs": [
    {
     "name": "stdout",
     "output_type": "stream",
     "text": [
      "[55 60 65 70 75 80]\n",
      "Female Probability from Histogram: [ 1.          0.99753086  0.80781499  0.26045296  0.02702703  0.        ]\n"
     ]
    }
   ],
   "source": [
    "queryhistFP = lambda histf, histm, val, offset: (histf[val-offset]/(histf[val-offset] + histm[val-offset])) #height return \n",
    "Vdist = np.array(range(55,85,5))\n",
    "FPdist = np.zeros(6)\n",
    "for i in range(0,6,1):\n",
    "    FPdist[i]=queryhistFP(HISTF,HISTM,Vdist[i],np.min(X))\n",
    "print(Vdist)\n",
    "print(\"Female Probability from Histogram: {}\".format(FPdist))"
   ]
  },
  {
   "cell_type": "code",
   "execution_count": 265,
   "metadata": {
    "collapsed": true
   },
   "outputs": [],
   "source": [
    "\"\"\"\n",
    "P(F/H) = P(H/F)*P(F) / P(H)\n",
    "\n",
    "\"\"\"\n",
    "def BayesFemaleProb(histf, histm, val, offset):\n",
    "    fsum = np.sum(histf)\n",
    "    msum = np.sum(histm)\n",
    "    sum = fsum + msum\n",
    "    ph = (histf[val-offset] + histm[val-offset]) / sum\n",
    "    phgf = histf[val-offset] / fsum\n",
    "    pf = fsum / sum\n",
    "    pfgh = (phgf*pf)/ph\n",
    "    return pfgh\n"
   ]
  },
  {
   "cell_type": "code",
   "execution_count": 266,
   "metadata": {
    "collapsed": false
   },
   "outputs": [
    {
     "name": "stdout",
     "output_type": "stream",
     "text": [
      "[55 60 65 70 75 80]\n",
      "Female Probability from DISCARED B: [ 1.          0.99753086  0.80781499  0.26045296  0.02702703  0.        ]\n"
     ]
    }
   ],
   "source": [
    "Vdist = np.array(range(55,85,5))\n",
    "FPdistBayes = np.zeros(6)\n",
    "for i in range(0,6,1):\n",
    "    FPdistBayes[i]=BayesFemaleProb(HISTF,HISTM,Vdist[i],np.min(X))\n",
    "print(Vdist)\n",
    "print(\"Female Probability from DISCARED B: {}\".format(FPdistBayes))"
   ]
  },
  {
   "cell_type": "code",
   "execution_count": null,
   "metadata": {
    "collapsed": true
   },
   "outputs": [],
   "source": []
  },
  {
   "cell_type": "code",
   "execution_count": 267,
   "metadata": {
    "collapsed": false
   },
   "outputs": [
    {
     "name": "stdout",
     "output_type": "stream",
     "text": [
      "P(F/H) = P(H/F)*P(F) / P(H)\n",
      "P(H/F) = 0.11382022471910112\n",
      "P(F) = 0.5329341317365269\n",
      "P(H) = 0.07508982035928144\n",
      "P(F/H) = 0.8078149920255183\n"
     ]
    }
   ],
   "source": [
    "histf=HISTF\n",
    "histm=HISTM\n",
    "val=65\n",
    "offset=52\n",
    "    \n",
    "fsum = np.sum(histf)\n",
    "msum = np.sum(histm)\n",
    "sum = fsum + msum\n",
    "ph = (histf[val-offset] + histm[val-offset]) / sum\n",
    "phgf = histf[val-offset] / fsum\n",
    "pf = fsum / sum\n",
    "pfgh = (phgf*pf)/ph\n",
    "\n",
    "print(\"P(F/H) = P(H/F)*P(F) / P(H)\")\n",
    "print(\"P(H/F) = {}\".format(phgf))\n",
    "print(\"P(F) = {}\".format(pf))\n",
    "print(\"P(H) = {}\".format(ph))\n",
    "print(\"P(F/H) = {}\".format(pfgh))\n"
   ]
  },
  {
   "cell_type": "code",
   "execution_count": 268,
   "metadata": {
    "collapsed": true
   },
   "outputs": [],
   "source": [
    "import math\n",
    "def numest (val, mean, sd):\n",
    "    numerator = math.exp(-1*((((val - mean)/sd)**2)/2))\n",
    "    denominator = (sd*(math.sqrt(2*math.pi)))\n",
    "    v = numerator/denominator\n",
    "    return v"
   ]
  },
  {
   "cell_type": "code",
   "execution_count": 269,
   "metadata": {
    "collapsed": false
   },
   "outputs": [
    {
     "name": "stdout",
     "output_type": "stream",
     "text": [
      "0.114340598309\n",
      "0.0263948390271\n",
      "0.812450655452\n"
     ]
    }
   ],
   "source": [
    "P65 = numest(65,Fmean,Fsd) / (numest(65,Fmean,Fsd) + numest(65,Mmean,Msd))\n",
    "print(numest(65,Fmean,Fsd))\n",
    "print(numest(65,Mmean,Msd))\n",
    "print(P65)"
   ]
  },
  {
   "cell_type": "code",
   "execution_count": null,
   "metadata": {
    "collapsed": true
   },
   "outputs": [],
   "source": []
  },
  {
   "cell_type": "code",
   "execution_count": 270,
   "metadata": {
    "collapsed": false
   },
   "outputs": [
    {
     "name": "stdout",
     "output_type": "stream",
     "text": [
      "0.9999320103\n"
     ]
    }
   ],
   "source": [
    "sum = 0\n",
    "for i in range(52,84,1):\n",
    "    sum += numest(i,Fmean,Fsd)\n",
    "print(sum)\n"
   ]
  },
  {
   "cell_type": "code",
   "execution_count": 271,
   "metadata": {
    "collapsed": false
   },
   "outputs": [
    {
     "name": "stdout",
     "output_type": "stream",
     "text": [
      "0.99994370205\n"
     ]
    }
   ],
   "source": [
    "sum = 0\n",
    "for i in range(52,84,1):\n",
    "    sum += numest(i,Mmean,Msd)\n",
    "print(sum)\n"
   ]
  },
  {
   "cell_type": "code",
   "execution_count": 272,
   "metadata": {
    "collapsed": false
   },
   "outputs": [
    {
     "name": "stdout",
     "output_type": "stream",
     "text": [
      "[55 60 65 70 75 80]\n",
      "Female Probability from Bayes: [ 0.99938389  0.98688332  0.81245066  0.23640563  0.02673103  0.00301532]\n"
     ]
    }
   ],
   "source": [
    "Vdist = np.array(range(55,85,5))\n",
    "FPdistBayes = np.zeros(6)\n",
    "for i in range(0,6,1):\n",
    "    FPdistBayes[i]=numest(Vdist[i],Fmean,Fsd) / (numest(Vdist[i],Fmean,Fsd) + numest(Vdist[i],Mmean,Msd))\n",
    "print(Vdist)\n",
    "print(\"Female Probability from Bayes: {}\".format(FPdistBayes))"
   ]
  },
  {
   "cell_type": "code",
   "execution_count": null,
   "metadata": {
    "collapsed": true
   },
   "outputs": [],
   "source": []
  },
  {
   "cell_type": "code",
   "execution_count": 273,
   "metadata": {
    "collapsed": false
   },
   "outputs": [
    {
     "data": {
      "text/plain": [
       "' PARTIAL DATA '"
      ]
     },
     "execution_count": 273,
     "metadata": {},
     "output_type": "execute_result"
    }
   ],
   "source": [
    "\"\"\" PARTIAL DATA \"\"\""
   ]
  },
  {
   "cell_type": "code",
   "execution_count": 274,
   "metadata": {
    "collapsed": true
   },
   "outputs": [],
   "source": [
    "PX=X[:50]\n",
    "PT=T[:50]\n"
   ]
  },
  {
   "cell_type": "code",
   "execution_count": 275,
   "metadata": {
    "collapsed": false
   },
   "outputs": [
    {
     "name": "stdout",
     "output_type": "stream",
     "text": [
      "Partial: Histogram Female = [ 3  5 12 24  6  0  0  0  0  0  0  0  0  0  0  0  0  0  0  0  0  0  0  0  0\n",
      "  0  0  0  0  0  0  0]\n",
      "Partial: Histogram Male = [0 0 0 0 0 0 0 0 0 0 0 0 0 0 0 0 0 0 0 0 0 0 0 0 0 0 0 0 0 0 0 0]\n"
     ]
    }
   ],
   "source": [
    "PHISTF,PHISTM = Build1HistogramClassifierF(PX,PT,32,np.min(X),np.max(X))\n",
    "print(\"Partial: Histogram Female = {}\".format(PHISTF))\n",
    "print(\"Partial: Histogram Male = {}\".format(PHISTM))\n"
   ]
  },
  {
   "cell_type": "code",
   "execution_count": 276,
   "metadata": {
    "collapsed": false
   },
   "outputs": [
    {
     "name": "stdout",
     "output_type": "stream",
     "text": [
      "Partial Data: Female Height: Mean = 54.5, Standard Deviation = 1.0350983390135313, Number = 50\n"
     ]
    }
   ],
   "source": [
    "PFnum, PFmean, PFsd = CompMeanSDPartioalData(PHISTF, wt)\n",
    "print(\"Partial Data: Female Height: Mean = {}, Standard Deviation = {}, Number = {}\".format(PFmean,PFsd,PFnum))"
   ]
  },
  {
   "cell_type": "code",
   "execution_count": 277,
   "metadata": {
    "collapsed": false
   },
   "outputs": [
    {
     "name": "stdout",
     "output_type": "stream",
     "text": [
      "Partial Data: Male Height: Mean = nan, Standard Deviation = nan, Number = 0\n"
     ]
    },
    {
     "name": "stderr",
     "output_type": "stream",
     "text": [
      "E:\\ProgramData\\Anaconda3\\lib\\site-packages\\ipykernel\\__main__.py:4: RuntimeWarning: invalid value encountered in long_scalars\n"
     ]
    }
   ],
   "source": [
    "PMnum, PMmean, PMsd = CompMeanSDPartioalData(PHISTM, wt)\n",
    "print(\"Partial Data: Male Height: Mean = {}, Standard Deviation = {}, Number = {}\".format(PMmean,PMsd,PMnum))\n"
   ]
  },
  {
   "cell_type": "code",
   "execution_count": 278,
   "metadata": {
    "collapsed": false
   },
   "outputs": [
    {
     "name": "stdout",
     "output_type": "stream",
     "text": [
      "[55 60 65 70 75 80]\n",
      "Partial Data: Female Probability from Histogram: [  1.  nan  nan  nan  nan  nan]\n"
     ]
    },
    {
     "name": "stderr",
     "output_type": "stream",
     "text": [
      "E:\\ProgramData\\Anaconda3\\lib\\site-packages\\ipykernel\\__main__.py:1: RuntimeWarning: invalid value encountered in long_scalars\n",
      "  if __name__ == '__main__':\n"
     ]
    }
   ],
   "source": [
    "queryhistFP = lambda histf, histm, val, offset: (histf[val-offset]/(histf[val-offset] + histm[val-offset])) #height return \n",
    "Vdist = np.array(range(55,85,5))\n",
    "PFPdist = np.zeros(6)\n",
    "for i in range(0,6,1):\n",
    "    PFPdist[i]=queryhistFP(PHISTF,PHISTM,Vdist[i],np.min(X))\n",
    "print(Vdist)\n",
    "print(\"Partial Data: Female Probability from Histogram: {}\".format(PFPdist))"
   ]
  },
  {
   "cell_type": "code",
   "execution_count": 279,
   "metadata": {
    "collapsed": false
   },
   "outputs": [
    {
     "name": "stdout",
     "output_type": "stream",
     "text": [
      "1.0\n"
     ]
    }
   ],
   "source": [
    "queryhist = lambda histo, val, offset, num: (histo[val-offset]/num) #height return \n",
    "sum=0\n",
    "for i in range(52,84):\n",
    "    sum+=queryhist(PHISTF,i,np.min(X),PFnum)\n",
    "    print\n",
    "print(sum)"
   ]
  },
  {
   "cell_type": "code",
   "execution_count": 280,
   "metadata": {
    "collapsed": false
   },
   "outputs": [
    {
     "name": "stdout",
     "output_type": "stream",
     "text": [
      "[55 60 65 70 75 80]\n",
      "Female Probability from Bayes: [ nan  nan  nan  nan  nan  nan]\n"
     ]
    }
   ],
   "source": [
    "Vdist = np.array(range(55,85,5))\n",
    "PFPdistBayes = np.zeros(6)\n",
    "for i in range(0,6,1):\n",
    "    PFPdistBayes[i]=numest(Vdist[i],PFmean,PFsd) / (numest(Vdist[i],PFmean,PFsd) + numest(Vdist[i],PMmean,PMsd))\n",
    "print(Vdist)\n",
    "print(\"Female Probability from Bayes: {}\".format(PFPdistBayes))"
   ]
  },
  {
   "cell_type": "code",
   "execution_count": 281,
   "metadata": {
    "collapsed": false
   },
   "outputs": [
    {
     "name": "stdout",
     "output_type": "stream",
     "text": [
      "7.83932719792e-50\n",
      "nan\n",
      "nan\n"
     ]
    }
   ],
   "source": [
    "P70 = numest(70,PFmean,PFsd) / (numest(70,PFmean,PFsd) + numest(70,PMmean,PMsd))\n",
    "print(numest(70,PFmean,PFsd))\n",
    "print(numest(70,PMmean,PMsd))\n",
    "print(P70)"
   ]
  },
  {
   "cell_type": "code",
   "execution_count": null,
   "metadata": {
    "collapsed": true
   },
   "outputs": [],
   "source": []
  },
  {
   "cell_type": "code",
   "execution_count": null,
   "metadata": {
    "collapsed": true
   },
   "outputs": [],
   "source": []
  },
  {
   "cell_type": "code",
   "execution_count": null,
   "metadata": {
    "collapsed": true
   },
   "outputs": [],
   "source": []
  },
  {
   "cell_type": "code",
   "execution_count": 282,
   "metadata": {
    "collapsed": true
   },
   "outputs": [],
   "source": [
    "ht = lambda x,y: (x*12 + y) #height return "
   ]
  }
 ],
 "metadata": {
  "kernelspec": {
   "display_name": "Python 3",
   "language": "python",
   "name": "python3"
  },
  "language_info": {
   "codemirror_mode": {
    "name": "ipython",
    "version": 3
   },
   "file_extension": ".py",
   "mimetype": "text/x-python",
   "name": "python",
   "nbconvert_exporter": "python",
   "pygments_lexer": "ipython3",
   "version": "3.6.0"
  }
 },
 "nbformat": 4,
 "nbformat_minor": 2
}
